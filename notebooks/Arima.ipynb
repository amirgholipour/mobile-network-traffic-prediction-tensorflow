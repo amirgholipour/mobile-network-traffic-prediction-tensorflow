{
 "cells": [
  {
   "cell_type": "code",
   "execution_count": 1,
   "metadata": {},
   "outputs": [],
   "source": [
    "import numpy as np\n",
    "from statsmodels.tsa.arima_model import ARIMA\n",
    "from statsmodels.tsa.statespace.sarimax import SARIMAX\n",
    "import statsmodels.api as sm\n",
    "import time"
   ]
  },
  {
   "cell_type": "code",
   "execution_count": 2,
   "metadata": {},
   "outputs": [],
   "source": [
    "train = np.load(\"../data/train.npy\")\n",
    "val = np.load(\"../data/val.npy\")\n",
    "mini = np.load(\"../data/mini_train.npy\")"
   ]
  },
  {
   "cell_type": "code",
   "execution_count": 3,
   "metadata": {},
   "outputs": [
    {
     "name": "stdout",
     "output_type": "stream",
     "text": [
      "(28, 100, 100)\n"
     ]
    }
   ],
   "source": [
    "print(mini.shape)"
   ]
  },
  {
   "cell_type": "code",
   "execution_count": 25,
   "metadata": {},
   "outputs": [
    {
     "name": "stdout",
     "output_type": "stream",
     "text": [
      "window_size: 100\n",
      "training model: 1/10001\n",
      "took: 0.8920671939849854 seconds\n"
     ]
    }
   ],
   "source": [
    "p, d, q = 1, 1, 1\n",
    "\n",
    "window_size = train.shape[-1]\n",
    "\n",
    "print(f\"window_size: {window_size}\")\n",
    "fitted_models = []\n",
    "for i in range(window_size**2):\n",
    "    start_time = time.time()\n",
    "\n",
    "    print(f\"training model: {i+1}/{window_size**2 + 1}\")\n",
    "    model = ARIMA(train[:, i // window_size, i % window_size], order=(p, d, q))\n",
    "    model_fit = model.fit(disp=0)\n",
    "    fitted_models.append(model_fit)\n",
    "#     model_fit.save(f\"temp/save_{i}.pickle\")\n",
    "    \n",
    "    elapsed = time.time() - start_time\n",
    "    print(f\"took: {elapsed} seconds\")\n",
    "    \n",
    "    break"
   ]
  },
  {
   "cell_type": "code",
   "execution_count": 39,
   "metadata": {},
   "outputs": [
    {
     "data": {
      "text/plain": [
       "(11,)"
      ]
     },
     "execution_count": 39,
     "metadata": {},
     "output_type": "execute_result"
    }
   ],
   "source": [
    "model = fitted_models[0]\n",
    "model.predict(start=10, end=20, exog=np.random.randn(100)).shape"
   ]
  },
  {
   "cell_type": "code",
   "execution_count": 19,
   "metadata": {},
   "outputs": [
    {
     "name": "stdout",
     "output_type": "stream",
     "text": [
      "loading model\n",
      "took: 0.0029108524322509766 seconds\n",
      "loading model\n",
      "took: 0.0020389556884765625 seconds\n",
      "loading model\n",
      "took: 0.0020127296447753906 seconds\n",
      "loading model\n",
      "took: 0.0020232200622558594 seconds\n",
      "loading model\n",
      "took: 0.0015790462493896484 seconds\n",
      "loading model\n",
      "took: 0.002247333526611328 seconds\n",
      "loading model\n",
      "took: 0.0019788742065429688 seconds\n",
      "loading model\n",
      "took: 0.0015597343444824219 seconds\n"
     ]
    }
   ],
   "source": [
    "for i in range(8):\n",
    "    start_time = time.time()\n",
    "    print(f\"loading model\")\n",
    "    saved = sm.load(f\"temp/save_{i}.pickle\")\n",
    "    \n",
    "    elapsed = time.time() - start_time\n",
    "    print(f\"took: {elapsed} seconds\")"
   ]
  },
  {
   "cell_type": "code",
   "execution_count": null,
   "metadata": {},
   "outputs": [],
   "source": [
    "def predict(coef, history):\n",
    "    yhat = 0.0\n",
    "    for i in range(1, len(coef)+1):\n",
    "        yhat += coef[i-1] * history[-i]\n",
    "    return yhat\n",
    " \n",
    "def difference(dataset):\n",
    "    diff = list()\n",
    "    for i in range(1, len(dataset)):\n",
    "        value = dataset[i] - dataset[i - 1]\n",
    "        diff.append(value)\n",
    "    return numpy.array(diff)\n",
    " \n",
    "def predict(model_fit, orders, inputs, output_length)\n",
    "# series = Series.from_csv('daily-minimum-temperatures.csv', header=0)\n",
    "# X = series.values\n",
    "# size = len(X) - 7\n",
    "# train, test = X[0:size], X[size:]\n",
    "# history = [x for x in train]\n",
    "# predictions = list()\n",
    "for t in range(len(test)):\n",
    "\n",
    "    ar_coef, ma_coef = model_fit.arparams, model_fit.maparams\n",
    "    resid = model_fit.resid\n",
    "    for i in range(d):\n",
    "        inputs = difference(inputs)\n",
    "        \n",
    "    \n",
    "    yhat = history[-1] + predict(ar_coef, diff) + predict(ma_coef, resid)\n",
    "    predictions.append(yhat)\n",
    "    obs = test[t]\n",
    "    history.append(obs)\n",
    "    print('>predicted=%.3f, expected=%.3f' % (yhat, obs))\n",
    "rmse = sqrt(mean_squared_error(test, predictions))\n",
    "print('Test RMSE: %.3f' % rmse)"
   ]
  },
  {
   "cell_type": "code",
   "execution_count": 43,
   "metadata": {},
   "outputs": [
    {
     "name": "stderr",
     "output_type": "stream",
     "text": [
      "/Users/dziugas/anaconda3/envs/msc/lib/python3.6/site-packages/statsmodels/base/model.py:512: ConvergenceWarning: Maximum Likelihood optimization failed to converge. Check mle_retvals\n",
      "  \"Check mle_retvals\", ConvergenceWarning)\n"
     ]
    }
   ],
   "source": [
    "mod = SARIMAX(train[:50, 1, 1], order=(1,1,1))\n",
    "mod_fit = mod.fit()"
   ]
  },
  {
   "cell_type": "code",
   "execution_count": 46,
   "metadata": {},
   "outputs": [],
   "source": [
    "naujas = SARIMAX(train[50:100, 1, 1], order=(1,1,1))\n",
    "naujas_fit = naujas.filter(mod_fit.params)"
   ]
  },
  {
   "cell_type": "code",
   "execution_count": 50,
   "metadata": {},
   "outputs": [],
   "source": [
    "pred = naujas_fit.get_prediction(start=10, end=14, dynamic=True)"
   ]
  },
  {
   "cell_type": "code",
   "execution_count": 54,
   "metadata": {},
   "outputs": [
    {
     "data": {
      "text/plain": [
       "array([-0.45269765, -0.4576199 , -0.45877185, -0.45904144, -0.45910453])"
      ]
     },
     "execution_count": 54,
     "metadata": {},
     "output_type": "execute_result"
    }
   ],
   "source": [
    "pred.predicted_mean"
   ]
  },
  {
   "cell_type": "code",
   "execution_count": 92,
   "metadata": {},
   "outputs": [
    {
     "data": {
      "text/plain": [
       "array([ 2.34030314e-01, -8.47683842e-01,  3.41470988e-05])"
      ]
     },
     "execution_count": 92,
     "metadata": {},
     "output_type": "execute_result"
    }
   ],
   "source": [
    "naujas_fit.params"
   ]
  },
  {
   "cell_type": "code",
   "execution_count": 61,
   "metadata": {},
   "outputs": [],
   "source": [
    "naujas_fit.save(\"temp.pickle\", remove_data=True)"
   ]
  },
  {
   "cell_type": "code",
   "execution_count": 8,
   "metadata": {},
   "outputs": [],
   "source": [
    "def nrmse(targets, predictions):\n",
    "    targets = np.squeeze(targets)\n",
    "    predictions = np.squeeze(predictions)\n",
    "\n",
    "    error = predictions - targets\n",
    "    mse = np.mean(np.square(error))\n",
    "    rmse = np.sqrt(mse)\n",
    "    return rmse / np.mean(targets)\n",
    "\n",
    "def make_prediction(save_path, eval_data, order, input_start, input_size, output_size):\n",
    "    grid_size = 100\n",
    "    prediction = np.zeros((output_size, grid_size, grid_size))\n",
    "    for x_coord in range(grid_size):\n",
    "        print(f\"x_coord: {x_coord}\")\n",
    "        for y_coord in range(grid_size):\n",
    "            \n",
    "            trained_model = sm.load(f\"{save_path}/{x_coord}_{y_coord}.pickle\")\n",
    "            model = SARIMAX(eval_data[:, x_coord, y_coord], order=order)\n",
    "            model_fit = model.filter(trained_model.params)\n",
    "            \n",
    "            prediction_wrapper = model_fit.get_prediction(start=input_start, \n",
    "                                     end=input_start + input_size + output_size - 1, dynamic=input_size)\n",
    "            \n",
    "\n",
    "#             print(f\"pred mean: {prediction_wrapper.predicted_mean}\")\n",
    "            prediction[:, x_coord, y_coord] += prediction_wrapper.predicted_mean[-output_size:]\n",
    "#             print(prediction[:, x_coord, y_coord])\n",
    "            \n",
    "            \n",
    "    return prediction\n",
    "\n",
    "def evaluate(save_path, eval_data, order, output_size=12, input_size=12,\n",
    "             train_mean=67.61768898039853, train_std=132.47248595705986):\n",
    "#     input_size = order[0]  # p is input_size\n",
    "    errors = []\n",
    "    for i in range(len(eval_data) - output_size - input_size):\n",
    "        predictions = make_prediction(save_path, eval_data, order, i, input_size, output_size)\n",
    "        targets = eval_data[i+input_size:i+input_size+output_size]\n",
    "        \n",
    "        predictions = predictions * train_std + train_mean \n",
    "        targets = targets * train_std + train_mean\n",
    "        \n",
    "        error = nrmse(targets, predictions)\n",
    "        print(f\"error: {error}\")\n",
    "        errors.append(error)\n",
    "        break\n",
    "            \n",
    "    print(f\"mean error: {np.array(errors).mean()}\")\n",
    "    print(f\"error std: {np.array(errors).std()}\")\n",
    "    return errors\n",
    "    \n",
    "\n",
    "            "
   ]
  },
  {
   "cell_type": "code",
   "execution_count": 9,
   "metadata": {},
   "outputs": [
    {
     "name": "stdout",
     "output_type": "stream",
     "text": [
      "x_coord: 0\n",
      "x_coord: 1\n",
      "x_coord: 2\n",
      "x_coord: 3\n",
      "x_coord: 4\n",
      "x_coord: 5\n",
      "x_coord: 6\n",
      "x_coord: 7\n",
      "x_coord: 8\n",
      "x_coord: 9\n",
      "x_coord: 10\n",
      "x_coord: 11\n",
      "x_coord: 12\n",
      "x_coord: 13\n",
      "x_coord: 14\n",
      "x_coord: 15\n",
      "x_coord: 16\n",
      "x_coord: 17\n",
      "x_coord: 18\n",
      "x_coord: 19\n",
      "x_coord: 20\n",
      "x_coord: 21\n",
      "x_coord: 22\n",
      "x_coord: 23\n",
      "x_coord: 24\n",
      "x_coord: 25\n",
      "x_coord: 26\n",
      "x_coord: 27\n",
      "x_coord: 28\n",
      "x_coord: 29\n",
      "x_coord: 30\n",
      "x_coord: 31\n",
      "x_coord: 32\n",
      "x_coord: 33\n",
      "x_coord: 34\n",
      "x_coord: 35\n",
      "x_coord: 36\n",
      "x_coord: 37\n",
      "x_coord: 38\n",
      "x_coord: 39\n",
      "x_coord: 40\n",
      "x_coord: 41\n",
      "x_coord: 42\n",
      "x_coord: 43\n",
      "x_coord: 44\n",
      "x_coord: 45\n",
      "x_coord: 46\n",
      "x_coord: 47\n",
      "x_coord: 48\n",
      "x_coord: 49\n",
      "x_coord: 50\n",
      "x_coord: 51\n",
      "x_coord: 52\n",
      "x_coord: 53\n",
      "x_coord: 54\n",
      "x_coord: 55\n",
      "x_coord: 56\n",
      "x_coord: 57\n",
      "x_coord: 58\n",
      "x_coord: 59\n",
      "x_coord: 60\n",
      "x_coord: 61\n",
      "x_coord: 62\n",
      "x_coord: 63\n",
      "x_coord: 64\n",
      "x_coord: 65\n",
      "x_coord: 66\n",
      "x_coord: 67\n",
      "x_coord: 68\n",
      "x_coord: 69\n",
      "x_coord: 70\n",
      "x_coord: 71\n",
      "x_coord: 72\n",
      "x_coord: 73\n",
      "x_coord: 74\n",
      "x_coord: 75\n",
      "x_coord: 76\n",
      "x_coord: 77\n",
      "x_coord: 78\n",
      "x_coord: 79\n",
      "x_coord: 80\n",
      "x_coord: 81\n",
      "x_coord: 82\n",
      "x_coord: 83\n",
      "x_coord: 84\n",
      "x_coord: 85\n",
      "x_coord: 86\n",
      "x_coord: 87\n",
      "x_coord: 88\n",
      "x_coord: 89\n",
      "x_coord: 90\n",
      "x_coord: 91\n",
      "x_coord: 92\n",
      "x_coord: 93\n",
      "x_coord: 94\n",
      "x_coord: 95\n",
      "x_coord: 96\n",
      "x_coord: 97\n",
      "x_coord: 98\n",
      "x_coord: 99\n",
      "error: 0.4835917665951856\n",
      "mean error: 0.4835917665951856\n",
      "error std: 0.0\n"
     ]
    }
   ],
   "source": [
    "save_path = \"../results/arima/p1_d0_q0/saved_models\"\n",
    "\n",
    "errors = evaluate(save_path, val, order=(1, 0, 0))"
   ]
  },
  {
   "cell_type": "code",
   "execution_count": null,
   "metadata": {},
   "outputs": [],
   "source": []
  },
  {
   "cell_type": "code",
   "execution_count": null,
   "metadata": {},
   "outputs": [],
   "source": []
  }
 ],
 "metadata": {
  "kernelspec": {
   "display_name": "Python 3",
   "language": "python",
   "name": "python3"
  },
  "language_info": {
   "codemirror_mode": {
    "name": "ipython",
    "version": 3
   },
   "file_extension": ".py",
   "mimetype": "text/x-python",
   "name": "python",
   "nbconvert_exporter": "python",
   "pygments_lexer": "ipython3",
   "version": "3.6.8"
  }
 },
 "nbformat": 4,
 "nbformat_minor": 2
}
